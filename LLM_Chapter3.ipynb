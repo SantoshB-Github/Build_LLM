{
  "nbformat": 4,
  "nbformat_minor": 0,
  "metadata": {
    "colab": {
      "provenance": [],
      "authorship_tag": "ABX9TyPkfqFPv4EnpzJH6sZ4DxJr",
      "include_colab_link": true
    },
    "kernelspec": {
      "name": "python3",
      "display_name": "Python 3"
    },
    "language_info": {
      "name": "python"
    }
  },
  "cells": [
    {
      "cell_type": "markdown",
      "metadata": {
        "id": "view-in-github",
        "colab_type": "text"
      },
      "source": [
        "<a href=\"https://colab.research.google.com/github/SantoshB-Github/Build_LLM/blob/main/LLM_Chapter3.ipynb\" target=\"_parent\"><img src=\"https://colab.research.google.com/assets/colab-badge.svg\" alt=\"Open In Colab\"/></a>"
      ]
    },
    {
      "cell_type": "code",
      "source": [
        "GPT_CONFIG_124M = {\n",
        "\"vocab_size\": 50257, # Vocabulary size\n",
        "\"ctx_len\": 1024, # Context length\n",
        "\"emb_dim\": 768, # Embedding dimension\n",
        "\"n_heads\": 12, # Number of attention heads\n",
        "\"n_layers\": 12, # Number of layers\n",
        "\"drop_rate\": 0.1, # Dropout rate\n",
        "\"qkv_bias\": False # Query-Key-Value bias\n",
        "}"
      ],
      "metadata": {
        "id": "j4GumxDV27s-"
      },
      "execution_count": 8,
      "outputs": []
    },
    {
      "cell_type": "code",
      "source": [
        "import torch.nn as nn\n",
        "\n",
        "#The DummyGPTModel class in this code defines a simplified version of a GPT-like model using PyTorch's neural network module (nn.Module)\n",
        "class DummyGPTModel (nn.Module):\n",
        "  def __init__(self, cfg):\n",
        "    super().__init__()\n",
        "    self.tok_emb = nn.Embedding(cfg[\"vocab_size\"], cfg[\"emb_dim\"])\n",
        "    print(self.tok_emb)\n",
        "    self.pos_emb = nn.Embedding(cfg[\"ctx_len\"], cfg[\"emb_dim\"])\n",
        "    print(self.pos_emb)\n",
        "    self.drop_emb = nn.Dropout (cfg[\"drop_rate\"])\n",
        "\n",
        "    #a series of transformer blocks (DummyTransformerBlock)\n",
        "    self.trf_blocks = nn.Sequential (*[DummyTransformerBlock(cfg) for _ in range (cfg[\"n_layers\"]) ]) #Use a placeholder for TransformerBlock\n",
        "    #a final layer normalization (DummyLayerNorm)\n",
        "    self.final_norm = DummyLayerNorm(cfg[\"emb_dim\"])      #Use a placeholder for LayerNorm\n",
        "    #a linear output layer (out_head)\n",
        "    self.out_head = nn.Linear (cfg[\"emb_dim\"], cfg[\"vocab_size\"], bias = False)\n",
        "\n",
        "#The forward method describes the data flow through the model: it computes token and positional embeddings for the input indices, applies dropout, processes the data through\n",
        "#the transformer blocks, applies normalization, and finally produces logits with the linear output layer.\n",
        "  def forward (self, in_idx):\n",
        "    batch_size, seq_len=in_idx.shape\n",
        "    tok_embeds = self.tok_emb(in_idx)\n",
        "    pos_embeds = self.pos_emb(torch.arange(seq_len, device = in_idx.device))\n",
        "    print (\"tok_embeds, size\\n\", tok_embeds, tok_embeds.shape)\n",
        "    print (\"pos_embeds, size\\n\", pos_embeds, pos_embeds.shape)\n",
        "    print (\"in_idx\\n\", in_idx)\n",
        "    print (\"seq_len \\n\", seq_len)\n",
        "    x = tok_embeds + pos_embeds\n",
        "    print(\"x = tok_embeds + pos_embeds, size\\n\", x, x.shape)\n",
        "    x = self.drop_emb(x)\n",
        "    x = self.trf_blocks(x)\n",
        "    x = self.final_norm(x)\n",
        "    logits = self.out_head(x)\n",
        "    return logits\n",
        "\n",
        "class DummyTransformerBlock(nn.Module):   #A simple placeholder class that will be replaced by a real TransformerBlock later\n",
        "  def __init__(self, cfg):\n",
        "    super().__init__()\n",
        "\n",
        "  def forward(self, x):                   # This block does nothing and just returns its input.\n",
        "    return x\n",
        "\n",
        "class DummyLayerNorm(nn.Module):          #  A simple placeholder class that will be replaced by a real TransformerBlock later\n",
        "  def __init__(self, normalized_shape, eps = 1e-5):    #The parameters here are just to mimic the LayerNorm interface.\n",
        "    super().__init__()\n",
        "\n",
        "  def forward (self, x):\n",
        "    return x"
      ],
      "metadata": {
        "id": "FyRMw6D229L1"
      },
      "execution_count": 36,
      "outputs": []
    },
    {
      "cell_type": "code",
      "source": [
        "pip install tiktoken"
      ],
      "metadata": {
        "id": "X9Hz96RW6Pbo",
        "outputId": "b7240d3b-b20f-4085-9029-a4cc769a35f5",
        "colab": {
          "base_uri": "https://localhost:8080/"
        }
      },
      "execution_count": 5,
      "outputs": [
        {
          "output_type": "stream",
          "name": "stdout",
          "text": [
            "Collecting tiktoken\n",
            "  Downloading tiktoken-0.6.0-cp310-cp310-manylinux_2_17_x86_64.manylinux2014_x86_64.whl (1.8 MB)\n",
            "\u001b[2K     \u001b[90m━━━━━━━━━━━━━━━━━━━━━━━━━━━━━━━━━━━━━━━━\u001b[0m \u001b[32m1.8/1.8 MB\u001b[0m \u001b[31m12.6 MB/s\u001b[0m eta \u001b[36m0:00:00\u001b[0m\n",
            "\u001b[?25hRequirement already satisfied: regex>=2022.1.18 in /usr/local/lib/python3.10/dist-packages (from tiktoken) (2023.12.25)\n",
            "Requirement already satisfied: requests>=2.26.0 in /usr/local/lib/python3.10/dist-packages (from tiktoken) (2.31.0)\n",
            "Requirement already satisfied: charset-normalizer<4,>=2 in /usr/local/lib/python3.10/dist-packages (from requests>=2.26.0->tiktoken) (3.3.2)\n",
            "Requirement already satisfied: idna<4,>=2.5 in /usr/local/lib/python3.10/dist-packages (from requests>=2.26.0->tiktoken) (3.6)\n",
            "Requirement already satisfied: urllib3<3,>=1.21.1 in /usr/local/lib/python3.10/dist-packages (from requests>=2.26.0->tiktoken) (2.0.7)\n",
            "Requirement already satisfied: certifi>=2017.4.17 in /usr/local/lib/python3.10/dist-packages (from requests>=2.26.0->tiktoken) (2024.2.2)\n",
            "Installing collected packages: tiktoken\n",
            "Successfully installed tiktoken-0.6.0\n"
          ]
        }
      ]
    },
    {
      "cell_type": "code",
      "source": [
        "import tiktoken\n",
        "import torch\n",
        "\n",
        "tokenizer = tiktoken.get_encoding(\"gpt2\")\n",
        "batch = []\n",
        "txt1 = \"Every effort moves you\"\n",
        "txt2 = \"Every day holds a\"\n",
        "\n",
        "batch.append(torch.tensor(tokenizer.encode(txt1)))\n",
        "batch.append(torch.tensor(tokenizer.encode(txt2)))\n",
        "print(batch)\n",
        "batch = torch.stack(batch, dim=0)\n",
        "print(batch)\n",
        "\n",
        "#The resulting token IDs for the two texts are as follows:\n",
        "#tensor([ [ 6109, 3626, 6100, 345], # The first row corresponds to the first text, and the second row corresponds to the second text\n",
        "#         [ 6109, 1110, 6622, 257]])\n",
        "\n",
        "#Next, we initialize a new 124 million parameter DummyGPTModel instance and feed it the tokenized batch:\n",
        "\n",
        "torch.manual_seed(123)\n",
        "model = DummyGPTModel(GPT_CONFIG_124M)\n",
        "logits = model(batch)\n",
        "print(\"output shape:\", logits.shape)\n",
        "print(logits)"
      ],
      "metadata": {
        "id": "kyAT2hTa3F-W",
        "outputId": "436cb376-cb8f-4a58-e8f3-601b96c6667c",
        "colab": {
          "base_uri": "https://localhost:8080/"
        }
      },
      "execution_count": 37,
      "outputs": [
        {
          "output_type": "stream",
          "name": "stdout",
          "text": [
            "[tensor([6109, 3626, 6100,  345]), tensor([6109, 1110, 6622,  257])]\n",
            "tensor([[6109, 3626, 6100,  345],\n",
            "        [6109, 1110, 6622,  257]])\n",
            "Embedding(50257, 768)\n",
            "Embedding(1024, 768)\n",
            "tok_embeds, size\n",
            " tensor([[[ 1.6146,  2.1622,  1.2770,  ...,  0.0111, -1.1353, -0.2450],\n",
            "         [-1.6020, -1.3996,  0.4308,  ...,  0.0913, -0.0614, -0.0538],\n",
            "         [ 0.7265,  1.0869, -0.2251,  ..., -0.0742,  0.1081,  0.9774],\n",
            "         [-0.4047, -0.0914, -1.5747,  ..., -1.5130,  0.4232,  0.5841]],\n",
            "\n",
            "        [[ 1.6146,  2.1622,  1.2770,  ...,  0.0111, -1.1353, -0.2450],\n",
            "         [-0.7858,  0.0101,  1.2537,  ..., -0.2667, -0.7853,  1.3047],\n",
            "         [ 1.8873,  0.7559, -0.1797,  ..., -0.0418, -0.4365, -0.3167],\n",
            "         [ 1.2758, -0.2896,  0.9539,  ...,  0.3405, -1.0636, -0.0674]]],\n",
            "       grad_fn=<EmbeddingBackward0>) torch.Size([2, 4, 768])\n",
            "pos_embeds, size\n",
            " tensor([[ 0.8769,  0.2550,  0.8441,  ..., -1.0354,  1.3085,  1.7957],\n",
            "        [-1.0029,  0.0995,  1.2459,  ...,  1.5453, -0.1126, -1.5197],\n",
            "        [ 1.3317,  0.7561,  0.9077,  ...,  0.0830,  1.8336, -2.2225],\n",
            "        [-1.2565, -2.0294, -1.3685,  ...,  1.8521,  0.5519,  0.8279]],\n",
            "       grad_fn=<EmbeddingBackward0>) torch.Size([4, 768])\n",
            "in_idx\n",
            " tensor([[6109, 3626, 6100,  345],\n",
            "        [6109, 1110, 6622,  257]])\n",
            "seq_len \n",
            " 4\n",
            "x = tok_embeds + pos_embeds, size\n",
            " tensor([[[ 2.4915,  2.4172,  2.1212,  ..., -1.0243,  0.1732,  1.5508],\n",
            "         [-2.6049, -1.3001,  1.6768,  ...,  1.6366, -0.1740, -1.5735],\n",
            "         [ 2.0582,  1.8430,  0.6826,  ...,  0.0087,  1.9417, -1.2451],\n",
            "         [-1.6613, -2.1208, -2.9432,  ...,  0.3392,  0.9750,  1.4120]],\n",
            "\n",
            "        [[ 2.4915,  2.4172,  2.1212,  ..., -1.0243,  0.1732,  1.5508],\n",
            "         [-1.7887,  0.1096,  2.4997,  ...,  1.2787, -0.8980, -0.2150],\n",
            "         [ 3.2190,  1.5120,  0.7280,  ...,  0.0412,  1.3971, -2.5393],\n",
            "         [ 0.0193, -2.3191, -0.4146,  ...,  2.1926, -0.5117,  0.7605]]],\n",
            "       grad_fn=<AddBackward0>) torch.Size([2, 4, 768])\n",
            "output shape: torch.Size([2, 4, 50257])\n",
            "tensor([[[-0.9289,  0.2748, -0.7557,  ..., -1.6070,  0.2702, -0.5888],\n",
            "         [-0.4476,  0.1726,  0.5354,  ..., -0.3932,  1.5285,  0.8557],\n",
            "         [ 0.5680,  1.6053, -0.2155,  ...,  1.1624,  0.1380,  0.7425],\n",
            "         [ 0.0447,  2.4787, -0.8843,  ...,  1.3219, -0.0864, -0.5856]],\n",
            "\n",
            "        [[-1.5474, -0.0542, -1.0571,  ..., -1.8061, -0.4494, -0.6747],\n",
            "         [-0.8422,  0.8243, -0.1098,  ..., -0.1434,  0.2079,  1.2046],\n",
            "         [ 0.1355,  1.1858, -0.1453,  ...,  0.0869, -0.1590,  0.1552],\n",
            "         [ 0.1666, -0.8138,  0.2307,  ...,  2.5035, -0.3055, -0.3083]]],\n",
            "       grad_fn=<UnsafeViewBackward0>)\n"
          ]
        }
      ]
    },
    {
      "cell_type": "code",
      "source": [
        "class LayerNorm(nn.Module):\n",
        "  def __init__(self, emb_dim):\n",
        "    super().__init__()\n",
        "    self.eps = 1e-5\n",
        "    self.scale = nn.Parameter (torch.ones(emb_dim))\n",
        "    self.shift = nn.Parameter(torch.zeros(emb_dim))\n",
        "\n",
        "  def forward (self, x):\n",
        "    mean = x.mean(dim = -1, keepdim=True)\n",
        "    var = x.var(dim = -1, keepdim=True, unbiased=False)\n",
        "    norm_x = (x - mean) / torch.sqrt(var + self.eps)\n",
        "    return (self.scale * norm_x + self.shift)"
      ],
      "metadata": {
        "id": "PZdT9snX29Tt"
      },
      "execution_count": 43,
      "outputs": []
    },
    {
      "cell_type": "code",
      "source": [
        "#torch.set_printoptions(sci_mode=False)\n",
        "ln = LayerNorm(emb_dim=5)\n",
        "batch_example = torch.rand(2, 5)\n",
        "print(\"batch_example = \\n\", batch_example)\n",
        "out_ln = ln (batch_example)\n",
        "print(\"normalized batch_example = \\n\", out_ln)\n",
        "print(\"mean \\n\", out_ln.mean(dim = -1, keepdim=True))\n",
        "print(\"var \\n\", out_ln.var(dim = -1, keepdim=True, unbiased=False))"
      ],
      "metadata": {
        "id": "5VplD1o24SIj",
        "outputId": "10b6706b-3e99-4d0d-de39-a460e7c88919",
        "colab": {
          "base_uri": "https://localhost:8080/"
        }
      },
      "execution_count": 48,
      "outputs": [
        {
          "output_type": "stream",
          "name": "stdout",
          "text": [
            "batch_example = \n",
            " tensor([[0.6978, 0.4475, 0.9203, 0.7511, 0.5432],\n",
            "        [0.2719, 0.9347, 0.7308, 0.9974, 0.9793]])\n",
            "normalized batch_example = \n",
            " tensor([[ 0.1566, -1.3630,  1.5079,  0.4803, -0.7819],\n",
            "        [-1.8743,  0.5572, -0.1909,  0.7872,  0.7209]], grad_fn=<AddBackward0>)\n",
            "mean \n",
            " tensor([[    -0.0000],\n",
            "        [     0.0000]], grad_fn=<MeanBackward1>)\n",
            "var \n",
            " tensor([[0.9996],\n",
            "        [0.9999]], grad_fn=<VarBackward0>)\n"
          ]
        }
      ]
    },
    {
      "cell_type": "code",
      "source": [
        "class GELU(nn.Module):\n",
        "    def __init__(self):\n",
        "      super().__init__()\n",
        "    def forward(self, x):\n",
        "      return 0.5 * x * (1 + torch.tanh(torch.sqrt(torch.tensor(2.0 / torch.pi)) *(x + 0.044715 * torch.pow(x, 3))))"
      ],
      "metadata": {
        "id": "w9hGYMIDBbMB"
      },
      "execution_count": 60,
      "outputs": []
    },
    {
      "cell_type": "code",
      "source": [
        "#Next, to get an idea of what this GELU function looks like and how it compares to the ReLU function, let's plot these functions side by side:\n",
        "import matplotlib.pyplot as plt\n",
        "gelu, relu = GELU(), nn.ReLU()\n",
        "x = torch.linspace(-3, 3, 100) #A\n",
        "y_gelu, y_relu = gelu(x), relu(x)\n",
        "plt.figure(figsize=(8, 3))\n",
        "for i, (y, label) in enumerate(zip([y_gelu, y_relu], [\"GELU\", \"ReLU\"]),1):\n",
        "  plt.subplot(1, 2, i)\n",
        "  plt.plot(x, y)\n",
        "  plt.title(f\"{label} activation function\")\n",
        "  plt.xlabel(\"x\")\n",
        "  plt.ylabel(f\"{label}(x)\")\n",
        "  plt.grid(True)\n",
        "plt.tight_layout()\n",
        "plt.show()\n",
        "\n"
      ],
      "metadata": {
        "id": "iW2ZHi6pVRtj"
      },
      "execution_count": null,
      "outputs": []
    },
    {
      "cell_type": "code",
      "source": [
        "class FeedForward (nn.Module):\n",
        "  def __init__(self, cfg):\n",
        "    self.layers = nn.sequnetial (nn.Linear (cfg[\"emb_dim\"], 4* cfg[\"emb_dim\"]), GELU(), nn.Linear (4*cfg[\"emb_dim\"], cfg[\"emb_dim\"]), nn.Dropout(cfg[\"drop_rate\"]))\n",
        "\n",
        "  def forward(self, x):\n",
        "    return self.layers(x)"
      ],
      "metadata": {
        "id": "srabbiiTWqv6"
      },
      "execution_count": 63,
      "outputs": []
    },
    {
      "cell_type": "code",
      "source": [
        "from LLM_Chapter3 import MultiHeadAttention"
      ],
      "metadata": {
        "id": "NTc0mba2pRT0",
        "outputId": "c82c0af4-19e8-492e-df77-47fdf2950ca8",
        "colab": {
          "base_uri": "https://localhost:8080/",
          "height": 314
        }
      },
      "execution_count": 2,
      "outputs": [
        {
          "output_type": "error",
          "ename": "ModuleNotFoundError",
          "evalue": "No module named 'LLM_Chapter3'",
          "traceback": [
            "\u001b[0;31m---------------------------------------------------------------------------\u001b[0m",
            "\u001b[0;31mModuleNotFoundError\u001b[0m                       Traceback (most recent call last)",
            "\u001b[0;32m<ipython-input-2-bfc17e1a74d9>\u001b[0m in \u001b[0;36m<cell line: 1>\u001b[0;34m()\u001b[0m\n\u001b[0;32m----> 1\u001b[0;31m \u001b[0;32mfrom\u001b[0m \u001b[0mLLM_Chapter3\u001b[0m \u001b[0;32mimport\u001b[0m \u001b[0mMultiHeadAttention\u001b[0m\u001b[0;34m\u001b[0m\u001b[0;34m\u001b[0m\u001b[0m\n\u001b[0m",
            "\u001b[0;31mModuleNotFoundError\u001b[0m: No module named 'LLM_Chapter3'",
            "",
            "\u001b[0;31m---------------------------------------------------------------------------\u001b[0;32m\nNOTE: If your import is failing due to a missing package, you can\nmanually install dependencies using either !pip or !apt.\n\nTo view examples of installing some common dependencies, click the\n\"Open Examples\" button below.\n\u001b[0;31m---------------------------------------------------------------------------\u001b[0m\n"
          ],
          "errorDetails": {
            "actions": [
              {
                "action": "open_url",
                "actionText": "Open Examples",
                "url": "/notebooks/snippets/importing_libraries.ipynb"
              }
            ]
          }
        }
      ]
    }
  ]
}