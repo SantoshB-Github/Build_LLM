{
  "nbformat": 4,
  "nbformat_minor": 0,
  "metadata": {
    "colab": {
      "provenance": [],
      "authorship_tag": "ABX9TyOFtebdV1f5zHdzCzR5WRnE",
      "include_colab_link": true
    },
    "kernelspec": {
      "name": "python3",
      "display_name": "Python 3"
    },
    "language_info": {
      "name": "python"
    }
  },
  "cells": [
    {
      "cell_type": "markdown",
      "metadata": {
        "id": "view-in-github",
        "colab_type": "text"
      },
      "source": [
        "<a href=\"https://colab.research.google.com/github/SantoshB-Github/Build_LLM/blob/main/LLM_Chapter3.ipynb\" target=\"_parent\"><img src=\"https://colab.research.google.com/assets/colab-badge.svg\" alt=\"Open In Colab\"/></a>"
      ]
    },
    {
      "cell_type": "code",
      "source": [
        "import torch.nn as nn\n",
        "class MultiHeadAttention(nn.Module):\n",
        "  def __init__(self, d_in, d_out, block_size, dropout, num_heads, qkv_bias=False):\n",
        "    super().__init__()\n",
        "    assert d_out % num_heads == 0, \"d_out must be divisible by n_heads\"\n",
        "\n",
        "    self.d_out = d_out\n",
        "    self.num_heads = num_heads\n",
        "    self.head_dim = d_out // num_heads #A\n",
        "    self.W_query = nn.Linear(d_in, d_out, bias=qkv_bias)\n",
        "    self.W_key = nn.Linear(d_in, d_out, bias=qkv_bias)\n",
        "    self.W_value = nn.Linear(d_in, d_out, bias=qkv_bias)\n",
        "    self.out_proj = nn.Linear(d_out, d_out) #B\n",
        "    self.dropout = nn.Dropout(dropout)\n",
        "    self.register_buffer('mask', torch.triu(torch.ones(block_size, block_size), diagonal=1))\n",
        "\n",
        "  def forward(self, x):\n",
        "    b, num_tokens, d_in = x.shape\n",
        "    keys = self.W_key(x) #C\n",
        "    queries = self.W_query(x) #C\n",
        "    values = self.W_value(x) #C\n",
        "\n",
        "    keys = keys.view(b, num_tokens, self.num_heads, self.head_dim) #D\n",
        "    values = values.view(b, num_tokens, self.num_heads, self.head_dim)#D\n",
        "    queries = queries.view(b, num_tokens, self.num_heads, self.head_dim) #D\n",
        "\n",
        "    keys = keys.transpose(1, 2) #E\n",
        "    queries = queries.transpose(1, 2) #E\n",
        "    values = values.transpose(1, 2) #E\n",
        "\n",
        "    attn_scores = queries @ keys.transpose(2, 3) #F\n",
        "    mask_bool = self.mask.bool()[:num_tokens, :num_tokens] #G\n",
        "    mask_unsqueezed = mask_bool.unsqueeze(0).unsqueeze(0) #H\n",
        "    attn_scores.masked_fill_(mask_unsqueezed, -torch.inf) #I\n",
        "    attn_weights = torch.softmax(attn_scores / keys.shape[-1]**0.5, dim=-1)\n",
        "    attn_weights = self.dropout(attn_weights)\n",
        "    context_vec = (attn_weights @ values).transpose(1, 2) #J#K\n",
        "    context_vec = context_vec.contiguous().view(b, num_tokens, self.d_out)\n",
        "    context_vec = self.out_proj(context_vec) #L\n",
        "    return context_vec"
      ],
      "metadata": {
        "id": "j4GumxDV27s-"
      },
      "execution_count": 2,
      "outputs": []
    }
  ]
}
